{
 "cells": [
  {
   "cell_type": "code",
   "execution_count": null,
   "id": "initial_id",
   "metadata": {
    "collapsed": true
   },
   "outputs": [],
   "source": [
    "import os\n",
    "import time\n",
    "import numpy as np\n",
    "\n",
    "# set the DB paths\n",
    "for env_var in [\"PYLAB_DB_LOCAL\", \"PYLAB_DB_OUT\"]:\n",
    "    if env_var not in os.environ:\n",
    "        for key in os.environ:\n",
    "            if key.startswith(env_var):\n",
    "                os.environ[env_var] = os.environ[key]\n",
    "                print(f\"set with {key}\")\n",
    "                break\n",
    "        else:\n",
    "            print(f\"{env_var} not found in environment variables\")\n",
    "\n",
    "import pylab_dk\n",
    "import pylab_dk.pltconfig.color_preset as colors\n",
    "from pylab_dk.constants import cm_to_inch, next_lst_gen, constant_generator\n",
    "from pylab_dk.file_organizer import FileOrganizer\n",
    "from pylab_dk.data_process import DataProcess\n",
    "from pylab_dk.data_plot import DataPlot\n",
    "from pylab_dk.measure_manager import MeasureManager"
   ]
  },
  {
   "cell_type": "code",
   "execution_count": null,
   "id": "917f5f609ad2e75a",
   "metadata": {},
   "outputs": [],
   "source": [
    "project_name = \"Date-Material\" # random name used for debug\n",
    "# if paths not correctly set in the environment variables, you can reset them here\n",
    "#FileOrganizer.reload_paths(local_db_path=, out_db_path=)\n",
    "folder = FileOrganizer(project_name)"
   ]
  },
  {
   "cell_type": "code",
   "execution_count": null,
   "id": "53f65dfe980211b5",
   "metadata": {},
   "outputs": [],
   "source": [
    "measurement = MeasureManager(project_name)\n",
    "#measurement.get_visa_resources()   # list all VISA resources\n",
    "measurement.load_meter(\"6221\",\"GPIB0::12::INSTR\")\n",
    "measurement.load_meter(\"2182\",\"GPIB0::7::INSTR\")\n",
    "#measurement.load_meter(\"2400\",\"GPIB0::23::INSTR\")\n",
    "#measurement.load_meter(\"6430\",\"GPIB0::24::INSTR\")\n",
    "#measurement.load_meter(\"sr830\",\"GPIB0::8::INSTR\",\"GPIB0::9::INSTR\")\n",
    "#measurement.load_mercury_ips(\"TCPIP0::10.97.24.237::7020::SOCKET\")\n",
    "#measurement.load_mercury_ipc(\"TCPIP0::10.101.28.24::7020::SOCKET\")\n",
    "#measurement.load_ITC503(\"GPIB0::23::INSTR\",\"GPIB0::24::INSTR\")\n",
    "#measurement.load_rotator()"
   ]
  },
  {
   "cell_type": "markdown",
   "id": "e278f2ebeb72f672",
   "metadata": {},
   "source": [
    "## Wrapper Check (repeat for every meter)"
   ]
  },
  {
   "cell_type": "code",
   "execution_count": null,
   "id": "e503f5bf03523f2a",
   "metadata": {},
   "outputs": [],
   "source": [
    "meter_name = \"6221\""
   ]
  },
  {
   "cell_type": "code",
   "execution_count": null,
   "id": "c8d355b853f74bcb",
   "metadata": {},
   "outputs": [],
   "source": [
    "# check the get_status function\n",
    "measurement.instrs[meter_name][0].setup()\n",
    "measurement.instrs[meter_name][0].uni_output(\"1uA\", type_str=\"curr\")\n",
    "measurement.instrs[meter_name][0].get_output_status()"
   ]
  },
  {
   "cell_type": "code",
   "execution_count": null,
   "id": "6216cc944acd956",
   "metadata": {},
   "outputs": [],
   "source": [
    "# check the switch-off function (should return the output value to 0)\n",
    "measurement.instrs[meter_name][0].setup()\n",
    "measurement.instrs[meter_name][0].uni_output(\"1uA\", type_str=\"curr\")\n",
    "print(\"before switch off: \", measurement.instrs[meter_name][0].get_output_status()[0])\n",
    "measurement.instrs[meter_name][0].output_switch(\"off\")\n",
    "print(\"after switch off: \", measurement.instrs[meter_name][0].get_output_status()[0])\n",
    "measurement.instrs[meter_name][0].output_switch(\"on\")\n",
    "print(\"after switch off: \", measurement.instrs[meter_name][0].get_output_status()[0])"
   ]
  },
  {
   "cell_type": "code",
   "execution_count": null,
   "id": "449704f140c563d1",
   "metadata": {},
   "outputs": [],
   "source": [
    "# check the ramp function (from current and from 0)\n",
    "measurement.instrs[meter_name][0].setup()\n",
    "measurement.instrs[meter_name][0].ramp_output(\"curr\", \"10uA\", interval=\"1uA\",sleep=0.5, from_curr=True)"
   ]
  },
  {
   "cell_type": "code",
   "execution_count": null,
   "id": "5ebd48fdb61c1318",
   "metadata": {},
   "outputs": [],
   "source": [
    "# check source sweep apply method\n",
    "measurement.source_sweep_apply(\"curr\", \"dc\", meter_name, max_value=\"10uA\", step_value=\"1uA\", compliance=\"1V\", sweepmode=\"0-max-0\")"
   ]
  },
  {
   "cell_type": "code",
   "execution_count": null,
   "id": "3b499443646c5248",
   "metadata": {},
   "outputs": [],
   "source": [
    "# check the step threshold for every source meter (not implemented)\n",
    "measurement.instrs[meter_name][0].setup()\n",
    "measurement.instrs[meter_name][0].uni_output(1, type_str=\"volt\")\n",
    "measurement.instrs[meter_name][0].uni_output(3, type_str=\"volt\")"
   ]
  },
  {
   "cell_type": "markdown",
   "id": "9f979afb1ff267a",
   "metadata": {},
   "source": [
    "## Normal Single Sweep/Vary"
   ]
  },
  {
   "cell_type": "code",
   "execution_count": null,
   "id": "ceeefafe32707308",
   "metadata": {},
   "outputs": [],
   "source": [
    "measurement.instrs[\"6221\"][0].setup()\n",
    "measurement.instrs[\"2182\"][0].setup()"
   ]
  },
  {
   "cell_type": "code",
   "execution_count": null,
   "id": "28f896be09b1a7d1",
   "metadata": {},
   "outputs": [],
   "source": [
    "step_time = 1\n",
    "\n",
    "mea_dict = measurement.get_measure_dict((\"I_source_sweep_dc\", \"V_sense\"),\n",
    "                                        1E-3, 5E-5, 1, 1, \"0-max-0\", \"\", 0, 0,\n",
    "                                        wrapper_lst=[measurement.instrs[\"6221\"][0],\n",
    "                                                     measurement.instrs[\"2182\"][0]],\n",
    "                                        compliance_lst=[\"10mA\"])\n",
    "\n",
    "print(f\"filepath: {mea_dict['filepath']}\")\n",
    "print(f\"no of columns(with time column): {mea_dict['record_num']}\")\n",
    "print(f\"vary modules: {mea_dict[\"vary_mod\"]}\")"
   ]
  },
  {
   "cell_type": "code",
   "execution_count": null,
   "id": "30c0a2560ee55e8",
   "metadata": {},
   "outputs": [],
   "source": [
    "# modify the plot configuration\n",
    "# note i[0] is timer\n",
    "measurement.live_plot_init(1,2,1)\n",
    "measurement.start_saving(mea_dict[\"plot_record_path\"],30)\n",
    "for i in mea_dict[\"gen_lst\"]:\n",
    "    measurement.record_update(mea_dict[\"file_path\"], mea_dict[\"record_num\"], i)\n",
    "    measurement.live_plot_update([0,0],\n",
    "                                 [0,1],\n",
    "                                 [0,0],\n",
    "                                 [i[1],i[0]],\n",
    "                                 [i[2],i[1]], \n",
    "                                 incremental=True)\n",
    "    time.sleep(step_time)\n",
    "measurement.stop_saving()"
   ]
  },
  {
   "cell_type": "code",
   "execution_count": null,
   "id": "44f8060f",
   "metadata": {},
   "outputs": [],
   "source": [
    "# plot all vars wrt time\n",
    "measurement.plot_df_cols(mea_mods, *vars_tup)"
   ]
  },
  {
   "cell_type": "markdown",
   "id": "495ab0fb160200dd",
   "metadata": {},
   "source": [
    "## Rotate Probe"
   ]
  },
  {
   "cell_type": "code",
   "execution_count": null,
   "id": "94f5c08421600880",
   "metadata": {},
   "outputs": [],
   "source": [
    "rot_dev = measurement.instrs[\"rotator\"]\n",
    "rot_dev.print_info()"
   ]
  },
  {
   "cell_type": "code",
   "execution_count": null,
   "id": "c9ecccaa7eb9bf53",
   "metadata": {},
   "outputs": [],
   "source": [
    "rot_dev.set_spd(3)\n",
    "rot_dev.ramp_angle(360, progress=True, wait=True)"
   ]
  },
  {
   "cell_type": "markdown",
   "id": "673ad0ce",
   "metadata": {},
   "source": [
    "# Vary \n",
    "(recommended that only 1 vary is applied)"
   ]
  },
  {
   "cell_type": "code",
   "execution_count": null,
   "id": "544a257b",
   "metadata": {},
   "outputs": [],
   "source": [
    "# integrate vary functions and current value getters\n",
    "vary_lst = []\n",
    "curr_val_lst = []\n",
    "for i in mea_dict[\"vary_mod\"]:\n",
    "    match i:\n",
    "        case \"T\":\n",
    "            vary_lst.append(mea_dict[\"tmp_vary\"])\n",
    "            curr_val_lst.append(lambda: measurement.instrs[\"itc\"].temperature)\n",
    "        case \"B\":\n",
    "            vary_lst.append(mea_dict[\"mag_vary\"])\n",
    "            curr_val_lst.append(lambda: measurement.instrs[\"ips\"].field)\n",
    "        case \"Theta\":\n",
    "            vary_lst.append(mea_dict[\"angle_vary\"])\n",
    "            curr_val_lst.append(measurement.instrs[\"rotator\"].curr_angle)\n",
    "\n",
    "assert len(curr_val_lst) == 1, \"vary_lst and curr_val_lst have lengths as 1\"\n",
    "assert len(vary_lst) == 1, \"only one varying parameter is allowed\""
   ]
  },
  {
   "cell_type": "code",
   "execution_count": null,
   "metadata": {},
   "outputs": [],
   "source": [
    "# modify the plot configuration\n",
    "##TODO::##\n",
    "measurement.live_plot_init(1,1,1)\n",
    "##::TODO##\n",
    "measurement.start_saving(mea_dict[\"plot_record_path\"],3)\n",
    "begin_vary = False\n",
    "counter = 0\n",
    "for i in mea_dict[\"gen_lst\"]:\n",
    "    measurement.record_update(mea_dict[\"file_path\"], mea_dict[\"record_num\"], i)\n",
    "    ##TODO:: add vary observing plotting##\n",
    "    measurement.live_plot_update(0,0,0,i[1],i[2], incremental=True)\n",
    "    ##::TODO##\n",
    "    time.sleep(step_time)\n",
    "    if not begin_vary:\n",
    "        if counter >= wait_before_vary:\n",
    "            for funci in vary_lst:\n",
    "                funci()\n",
    "            begin_vary = True\n",
    "        else:\n",
    "            counter += step_time\n",
    "measurement.stop_saving()"
   ]
  },
  {
   "cell_type": "markdown",
   "id": "3fce0f6854ea2d05",
   "metadata": {},
   "source": [
    "## Constrained dual-Sweep"
   ]
  },
  {
   "cell_type": "code",
   "execution_count": null,
   "id": "eaee667242b22616",
   "metadata": {},
   "outputs": [],
   "source": [
    "measurement.instrs[\"6221\"][0].setup()\n",
    "measurement.instrs[\"2182\"][0].setup()"
   ]
  },
  {
   "cell_type": "code",
   "execution_count": null,
   "id": "614532a15f53bb4",
   "metadata": {},
   "outputs": [],
   "source": [
    "# use manual sweep list to achieve constrained multi-sweep\n",
    "# define a main sweep which is the independent variables\n",
    "# use list instead of ndarray or generator\n",
    "max_val = 1 # 1V\n",
    "npts = 51 # 50 points single direction\n",
    "swp_lst_main = [i * max_val/(npts - 1) for i in range(0, 51, 1)]\n",
    "# define a sub sweep which is the dependent variables\n",
    "def dependent_func(x):\n",
    "    return 2-x\n",
    "swp_lst_sub = [dependent_func(i) for i in swp_lst_main]\n",
    "\n",
    "mea_dict = measurement.get_measure_dict((\"V_source_sweep_dc\",\"V_source_sweep_dc\", \"I_sense\"),\n",
    "                                        \"-h\",\n",
    "                                        wrapper_lst=[measurement.instrs[\"2400\"][0],\n",
    "                                                     measurement.instrs[\"6430\"][0],\n",
    "                                                     measurement.instrs[\"2400\"][0]],\n",
    "                                        compliance_lst=[\"10mA\",\"10mA\"],\n",
    "                                        sweep_tables=[swp_lst_main, swp_lst_sub])\n"
   ]
  },
  {
   "cell_type": "code",
   "execution_count": null,
   "id": "9a53eac0c8bd34af",
   "metadata": {},
   "outputs": [],
   "source": [
    "assert len(mea_dict[\"swp_idx\"]) >= 1, \"no sweep found\"\n",
    "swp_idxs = mea_dict[\"swp_idx\"]\n",
    "measurement.live_plot_init(1, 1, 1)\n",
    "for i in mea_dict[\"gen_lst\"]:\n",
    "    measurement.record_update(mea_dict[\"file_path\"], mea_dict[\"record_num\"], i)\n",
    "    measurement.live_plot_update(0, 0, 0, i[swp_idxs[0]], i[2])"
   ]
  },
  {
   "cell_type": "markdown",
   "id": "1871e45c0222dc49",
   "metadata": {},
   "source": [
    "## Mapping"
   ]
  },
  {
   "cell_type": "code",
   "execution_count": null,
   "id": "b5b186e7",
   "metadata": {},
   "outputs": [],
   "source": [
    "##TODO::##\n",
    "# Parameters\n",
    "step_time = 1 # s, wait time between each measurement step\n",
    "mapping = True\n",
    "wait_before_vary = 30 # s, wait time before starting the varying process\n",
    "\n",
    "# setup related meters IF SPECIAL PARAMETERS ARE NEEDED\n",
    "measurement.instrs[\"6221\"][0].setup(low_grounded=False)\n",
    "\n",
    "# setup mapping IF NEEDED\n",
    "if mapping:\n",
    "    def map_func(x):\n",
    "        \"\"\"\n",
    "        the correspondance between mapping variables, default is equal\n",
    "        \"\"\"\n",
    "        return x\n",
    "\n",
    "    # more mapping variables can be included\n",
    "    # note the order ((1,2) x (3,4) -> 1,3; 1,4; 2,3; 2,4)\n",
    "    map1_lst = np.arange(1,100,1)*1E-4 # achieve flexible mapping instead of evenly spaced\n",
    "\n",
    "    map2_lst = map_func(map1_lst)  # or directly assign the mapping variables\n",
    "    map_lsts = measurement.create_mapping(map1_lst, map2_lst, idxs=(0,1))\n",
    "else:\n",
    "    map_lsts = None\n",
    "\n",
    "# Core configuration\n",
    "# Generate the measurement generator\n",
    "mea_dict = measurement.get_measure_dict(\n",
    "    mea_mods := (\"V_source_sweep_dc\",\"I_sense\"),\n",
    "    *(vars_tup := (1E-3, 5E-5, 1, 1, \"0-max-0\", \"\",1,1)), # refer to the last cell for the meaning of each element\n",
    "    wrapper_lst=[measurement.instrs[\"6221\"][0],\n",
    "             measurement.instrs[\"2182\"][0]],\n",
    "    compliance_lst=[\"10V\"],\n",
    "    sr830_current_resistor = None, # only float\n",
    "    if_combine_gen = True, # False for coexistence of vary and mapping\n",
    "    special_name = None,\n",
    "    sweep_tables = map_lsts\n",
    "    )\n",
    "##::TODO##\n",
    "\n",
    "print(f\"filepath: {mea_dict['filepath']}\")\n",
    "print(f\"no of columns(with time column): {mea_dict['record_num']}\")\n",
    "print(f\"vary modules: {mea_dict[\"vary_mod\"]}\")"
   ]
  },
  {
   "cell_type": "code",
   "execution_count": null,
   "id": "1cf1065b",
   "metadata": {},
   "outputs": [],
   "source": [
    "# modify the plot configuration\n",
    "measurement.live_plot_init(3,1,1,plot_types=[[\"scatter\"],[\"scatter\"],[\"contour\"]])\n",
    "measurement.start_saving(mea_dict[\"plot_record_path\"],30)\n",
    "for i in mea_dict[\"gen_lst\"]:\n",
    "    measurement.record_update(mea_dict[\"file_path\"], mea_dict[\"record_num\"], i)\n",
    "    measurement.live_plot_update([0,1,2],[0]*3,[0]*3,\n",
    "                                 [i[1],i[1],i[0]],\n",
    "                                 [i[2],i[3],i[1]],\n",
    "                                 [i[2]], incremental=True)\n",
    "    time.sleep(step_time)\n",
    "measurement.stop_saving()"
   ]
  },
  {
   "cell_type": "markdown",
   "id": "51abb522",
   "metadata": {},
   "source": [
    "# Mapping with vary"
   ]
  },
  {
   "cell_type": "code",
   "execution_count": null,
   "id": "782ce35b",
   "metadata": {},
   "outputs": [],
   "source": [
    "##TODO::##\n",
    "# Parameters\n",
    "step_time = 1 # s, wait time between each measurement step\n",
    "mapping = True\n",
    "wait_before_vary = 17 # s, wait time before starting the varying process\n",
    "\n",
    "# setup related meters IF SPECIAL PARAMETERS ARE NEEDED\n",
    "#measurement.instrs[\"6221\"][0].setup(low_grounded=False)\n",
    "\n",
    "# setup mapping IF NEEDED\n",
    "if mapping:\n",
    "    def map_func(x):\n",
    "        \"\"\"\n",
    "        the correspondance between mapping variables, default is equal\n",
    "        \"\"\"\n",
    "        return x\n",
    "\n",
    "    # more mapping variables can be included\n",
    "    # note the order ((1,2) x (3,4) -> 1,3; 1,4; 2,3; 2,4)\n",
    "    map1_lst = np.concatenate([np.arange(-10, -5, 0.2),np.arange(-5, 5, 0.1),np.arange(5, 10.001, 0.2)]) # achieve flexible mapping instead of evenly spaced\n",
    "\n",
    "    map2_lst = map_func(map1_lst)  # or directly assign the mapping variables\n",
    "    map_lsts = measurement.create_mapping(map1_lst, map2_lst, idxs=(0,1))\n",
    "else:\n",
    "    map_lsts = None\n",
    "\n",
    "# Core configuration\n",
    "# Generate the measurement generator\n",
    "mea_dict = measurement.get_measure_dict(\n",
    "    mea_mods := (\"V_source_sweep_dc\",\"I_sense\",\"B_vary\"),\n",
    "    *(vars_tup := (1E-3, 5E-5, 1, 1, \"0-max-0\", \"\",1,1, vary_start := -1, vary_stop:= 1)), # refer to the last cell for the meaning of each element\n",
    "    wrapper_lst=[measurement.instrs[\"6221\"][0],\n",
    "             measurement.instrs[\"2182\"][0]],\n",
    "    compliance_lst=[\"10V\"],\n",
    "    sr830_current_resistor = None, # only float\n",
    "    if_combine_gen = False, # False for coexistence of vary and mapping\n",
    "    special_name = None,\n",
    "    sweep_tables = map_lsts\n",
    "    )\n",
    "##::TODO##\n",
    "\n",
    "print(f\"filepath: {mea_dict['filepath']}\")\n",
    "print(f\"no of columns(with time column): {mea_dict['record_num']}\")\n",
    "print(f\"vary modules: {mea_dict[\"vary_mod\"]}\")\n",
    "\n",
    "# integrate vary functions and current value getters\n",
    "vary_lst = []\n",
    "curr_val_lst = []\n",
    "for i in mea_dict[\"vary_mod\"]:\n",
    "    match i:\n",
    "        case \"T\":\n",
    "            vary_lst.append(mea_dict[\"tmp_vary\"])\n",
    "            curr_val_lst.append(lambda: measurement.instrs[\"itc\"].temperature)\n",
    "        case \"B\":\n",
    "            vary_lst.append(mea_dict[\"mag_vary\"])\n",
    "            curr_val_lst.append(lambda: measurement.instrs[\"ips\"].field)\n",
    "        case \"Theta\":\n",
    "            vary_lst.append(mea_dict[\"angle_vary\"])\n",
    "            curr_val_lst.append(measurement.instrs[\"rotator\"].curr_angle)\n",
    "\n",
    "assert len(curr_val_lst) == 1, \"vary_lst and curr_val_lst have lengths as 1\"\n",
    "assert len(vary_lst) == 1, \"only one varying parameter is allowed\""
   ]
  },
  {
   "cell_type": "code",
   "execution_count": null,
   "id": "38e43a20",
   "metadata": {},
   "outputs": [],
   "source": [
    "# modify the plot configuration\n",
    "##TODO::##\n",
    "measurement.live_plot_init(1,1,1)\n",
    "##::TODO##\n",
    "measurement.start_saving(mea_dict[\"plot_record_path\"],30)\n",
    "counter = 0\n",
    "# each row in list is a sweep step, so should be interruped each step\n",
    "tmp_lst_swp = [[]] * len(mea_dict[\"swp_idx\"])\n",
    "while True:\n",
    "    measured_lst = next_lst_gen(mea_dict[\"gen_lst\"])\n",
    "    if measured_lst is None:\n",
    "        break\n",
    "    measurement.record_update(mea_dict[\"file_path\"], mea_dict[\"record_num\"], measured_lst)\n",
    "    # substitute the swp to constant to do varies\n",
    "    for n, i in enumerate(mea_dict[\"swp_idx\"]):\n",
    "        tmp_lst_swp[n] = mea_dict[\"gen_lst\"][i]\n",
    "        mea_dict[\"gen_lst\"][i] = constant_generator(measured_lst[i])\n",
    "    # begin a circular vary under each sweep step\n",
    "    time.sleep(wait_before_vary)\n",
    "    if abs(curr_val_lst[0] - vary_start) < 0.03:\n",
    "        vary_lst[0]()\n",
    "    while abs(curr_val_lst[0] - vary_stop) > 0.03:\n",
    "        measured_lst = next_lst_gen(mea_dict[\"gen_lst\"])\n",
    "        ##TODO:: add vary observing plotting##\n",
    "        measurement.live_plot_update(0,0,0,measured_lst[1],measured_lst[2], incremental=True)\n",
    "        ##::TODO##\n",
    "        time.sleep(step_time)\n",
    "\n",
    "    if abs(curr_val_lst[0] - vary_stop) < 0.03:\n",
    "        vary_lst[0](reverse=True)\n",
    "    while abs(curr_val_lst[0] - vary_start) > 0.03:\n",
    "        measured_lst = next_lst_gen(mea_dict[\"gen_lst\"])\n",
    "        ##TODO:: add vary observing plotting##\n",
    "        measurement.live_plot_update(0,0,0,measured_lst[1],measured_lst[2], incremental=True)\n",
    "        ##::TODO##\n",
    "        time.sleep(step_time)\n",
    "\n",
    "    # substitute the swp to constant to do varies\n",
    "    for n, i in enumerate(mea_dict[\"swp_idx\"]):\n",
    "        mea_dict[\"gen_lst\"][i] = tmp_lst_swp[n]\n",
    "        tmp_lst_swp[n] = []\n",
    "    \n",
    "measurement.stop_saving()"
   ]
  }
 ],
 "metadata": {
  "kernelspec": {
   "display_name": "pip_visa",
   "language": "python",
   "name": "python3"
  },
  "language_info": {
   "codemirror_mode": {
    "name": "ipython",
    "version": 3
   },
   "file_extension": ".py",
   "mimetype": "text/x-python",
   "name": "python",
   "nbconvert_exporter": "python",
   "pygments_lexer": "ipython3",
   "version": "3.12.0"
  }
 },
 "nbformat": 4,
 "nbformat_minor": 5
}
