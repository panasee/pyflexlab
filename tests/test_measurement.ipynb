{
 "cells": [
  {
   "cell_type": "code",
   "execution_count": null,
   "id": "initial_id",
   "metadata": {
    "collapsed": true
   },
   "outputs": [],
   "source": [
    "import os\n",
    "\n",
    "# set the DB paths\n",
    "os.environ[\"PYLAB_DB_LOCAL\"] = r\"\"\n",
    "os.environ[\"PYLAB_DB_OUT\"] = r\"\"\n",
    "import pylab_dk\n",
    "import pylab_dk.pltconfig.color_preset as colors\n",
    "from pylab_dk.constants import cm_to_inch\n",
    "from pylab_dk.file_organizer import FileOrganizer\n",
    "from pylab_dk.data_process import DataProcess\n",
    "from pylab_dk.data_plot import DataPlot\n",
    "from pylab_dk.measure_manager import MeasureManager"
   ]
  },
  {
   "metadata": {},
   "cell_type": "code",
   "outputs": [],
   "execution_count": null,
   "source": [
    "project_name = \"Date-Material\" # random name used for debug\n",
    "# if paths not correctly set in the environment variables, you can reset them here\n",
    "#FileOrganizer.reload_paths(local_db_path=, out_db_path=)\n",
    "folder = FileOrganizer(project_name)"
   ],
   "id": "917f5f609ad2e75a"
  },
  {
   "metadata": {},
   "cell_type": "code",
   "outputs": [],
   "execution_count": null,
   "source": [
    "measurement = MeasureManager(project_name)\n",
    "#measurement.get_visa_resources()   # list all VISA resources\n",
    "measurement.load_meter(\"6221\",\"GPIB0::12::INSTR\")\n",
    "measurement.load_meter(\"2182\",\"GPIB0::7::INSTR\")\n",
    "#measurement.load_meter(\"sr830\",\"GPIB0::8::INSTR\",\"GPIB0::9::INSTR\")\n",
    "#measurement.load_mercury_ips(\"TCPIP0::10.97.24.237::7020::SOCKET\")\n",
    "#measurement.load_mercury_ipc(\"TCPIP0::10.101.28.24::7020::SOCKET\")\n",
    "#measurement.load_ITC503(\"GPIB0::23::INSTR\",\"GPIB0::24::INSTR\")\n",
    "#measurement.load_rotator()\n"
   ],
   "id": "53f65dfe980211b5"
  },
  {
   "metadata": {},
   "cell_type": "markdown",
   "source": "## Safety Check (repeat for every meter)",
   "id": "e278f2ebeb72f672"
  },
  {
   "metadata": {},
   "cell_type": "code",
   "outputs": [],
   "execution_count": null,
   "source": "meter_name = \"6221\"",
   "id": "e503f5bf03523f2a"
  },
  {
   "metadata": {},
   "cell_type": "code",
   "outputs": [],
   "execution_count": null,
   "source": [
    "# check the get_status function\n",
    "measurement.instrs[meter_name][0].setup()\n",
    "measurement.instrs[meter_name][0].uni_output(\"1uA\", type_str=\"curr\")\n",
    "measurement.instrs[meter_name][0].get_output_status()"
   ],
   "id": "c8d355b853f74bcb"
  },
  {
   "metadata": {},
   "cell_type": "code",
   "outputs": [],
   "execution_count": null,
   "source": [
    "# check the switch-off function (should return the output value to 0)\n",
    "measurement.instrs[meter_name][0].setup()\n",
    "measurement.instrs[meter_name][0].uni_output(\"1uA\", type_str=\"curr\")\n",
    "print(\"before switch off: \", measurement.instrs[meter_name][0].get_output_status()[0])\n",
    "measurement.instrs[meter_name][0].output_switch(\"off\")\n",
    "print(\"after switch off: \", measurement.instrs[meter_name][0].get_output_status()[0])\n",
    "measurement.instrs[meter_name][0].output_switch(\"on\")\n",
    "print(\"after switch off: \", measurement.instrs[meter_name][0].get_output_status()[0])"
   ],
   "id": "6216cc944acd956"
  },
  {
   "metadata": {},
   "cell_type": "code",
   "outputs": [],
   "execution_count": null,
   "source": [
    "# check the ramp function (from current and from 0)\n",
    "measurement.instrs[meter_name][0].setup()\n",
    "measurement.instrs[meter_name][0].ramp_output(\"curr\", \"10uA\", interval=\"1uA\",sleep=0.5, from_curr=True)"
   ],
   "id": "449704f140c563d1"
  },
  {
   "metadata": {},
   "cell_type": "code",
   "outputs": [],
   "execution_count": null,
   "source": [
    "# check source sweep apply method\n",
    "measurement.source_sweep_apply(\"curr\", \"dc\", \"6221\", max_value=\"10uA\", step_value=\"1uA\", compliance=\"1V\",\n",
    "                               sweepmode=\"0-max-0\")"
   ],
   "id": "5ebd48fdb61c1318"
  },
  {
   "metadata": {},
   "cell_type": "code",
   "outputs": [],
   "execution_count": null,
   "source": [
    "# check the step threshold for every source meter (not implemented)\n",
    "measurement.instrs[meter_name][0].setup()\n",
    "measurement.instrs[meter_name][0].uni_output(1, type_str=\"volt\")\n",
    "measurement.instrs[meter_name][0].uni_output(3, type_str=\"volt\")"
   ],
   "id": "3b499443646c5248"
  },
  {
   "metadata": {},
   "cell_type": "markdown",
   "source": "## Normal Single Sweep/Vary",
   "id": "9f979afb1ff267a"
  },
  {
   "metadata": {},
   "cell_type": "code",
   "outputs": [],
   "execution_count": null,
   "source": [
    "measurement.instrs[\"6221\"][0].setup()\n",
    "measurement.instrs[\"2182\"][0].setup()"
   ],
   "id": "ceeefafe32707308"
  },
  {
   "metadata": {},
   "cell_type": "code",
   "outputs": [],
   "execution_count": null,
   "source": [
    "mea_dict = measurement.get_measure_dict((\"I_source_sweep_dc\", \"V_sense\"),\n",
    "                                        1E-3, 5E-5, 1, 1, \"0-max-0\", \"\", 0, 0,\n",
    "                                        wrapper_lst=[measurement.instrs[\"6221\"][0],\n",
    "                                                     measurement.instrs[\"2182\"][0]],\n",
    "                                        compliance_lst=[\"10mA\"])"
   ],
   "id": "28f896be09b1a7d1"
  },
  {
   "metadata": {},
   "cell_type": "code",
   "outputs": [],
   "execution_count": null,
   "source": [
    "assert len(mea_dict[\"swp_idx\"]) <= 1, \"Only one sweep is allowed\"\n",
    "swp_idx = mea_dict[\"swp_idx\"][0] if len(mea_dict[\"swp_idx\"]) > 0 else None\n",
    "measurement.live_plot_init(1, 1, 1) # according to the actual needs\n",
    "for i in mea_dict[\"gen_lst\"]:\n",
    "    measurement.record_update(mea_dict[\"file_path\"], mea_dict[\"record_num\"], i)\n",
    "    measurement.live_plot_update(0, 0, 0, i[swp_idx], i[1])"
   ],
   "id": "30c0a2560ee55e8"
  },
  {
   "metadata": {},
   "cell_type": "markdown",
   "source": "## Rotate Probe",
   "id": "495ab0fb160200dd"
  },
  {
   "metadata": {},
   "cell_type": "code",
   "outputs": [],
   "execution_count": null,
   "source": [
    "rot_dev = measurement.instrs[\"rotator\"]\n",
    "rot_dev.print_info()"
   ],
   "id": "94f5c08421600880"
  },
  {
   "metadata": {},
   "cell_type": "code",
   "outputs": [],
   "execution_count": null,
   "source": [
    "rot_dev.set_spd(3)\n",
    "rot_dev.ramp_angle(360, progress=True, wait=True)"
   ],
   "id": "c9ecccaa7eb9bf53"
  },
  {
   "metadata": {},
   "cell_type": "markdown",
   "source": "## Constrained Multi-Sweep",
   "id": "3fce0f6854ea2d05"
  },
  {
   "metadata": {},
   "cell_type": "code",
   "outputs": [],
   "execution_count": null,
   "source": [
    "measurement.instrs[\"6221\"][0].setup()\n",
    "measurement.instrs[\"2182\"][0].setup()"
   ],
   "id": "eaee667242b22616"
  },
  {
   "metadata": {},
   "cell_type": "code",
   "outputs": [],
   "execution_count": null,
   "source": [
    "# use manual sweep list to achieve constrained multi-sweep\n",
    "# define a main sweep which is the independent variables\n",
    "# use list instead of ndarray or generator\n",
    "max_val = 1 # 1V\n",
    "npts = 51 # 50 points single direction\n",
    "swp_lst_main = [i * max_val/(npts - 1) for i in range(0, 51, 1)]\n",
    "# define a sub sweep which is the dependent variables\n",
    "def dependent_func(x):\n",
    "    return 2-x\n",
    "swp_lst_sub = [dependent_func(i) for i in swp_lst_main]\n",
    "\n",
    "mea_dict = measurement.get_measure_dict((\"V_source_sweep_dc\",\"V_source_sweep_dc\", \"I_sense\"),\n",
    "                                        \"-h\",\n",
    "                                        wrapper_lst=[measurement.instrs[\"2400\"][0],\n",
    "                                                     measurement.instrs[\"6430\"][0],\n",
    "                                                     measurement.instrs[\"2400\"][0]],\n",
    "                                        compliance_lst=[\"10mA\",\"10mA\"],\n",
    "                                        sweep_tables=[swp_lst_main, swp_lst_sub])\n"
   ],
   "id": "614532a15f53bb4"
  },
  {
   "metadata": {},
   "cell_type": "code",
   "outputs": [],
   "execution_count": null,
   "source": [
    "assert len(mea_dict[\"swp_idx\"]) >= 1, \"no sweep found\"\n",
    "swp_idxs = mea_dict[\"swp_idx\"]\n",
    "measurement.live_plot_init(1, 1, 1)\n",
    "for i in mea_dict[\"gen_lst\"]:\n",
    "    measurement.record_update(mea_dict[\"file_path\"], mea_dict[\"record_num\"], i)\n",
    "    measurement.live_plot_update(0, 0, 0, i[swp_idxs[0]], i[2])"
   ],
   "id": "9a53eac0c8bd34af"
  },
  {
   "metadata": {},
   "cell_type": "markdown",
   "source": "## Mapping",
   "id": "1871e45c0222dc49"
  }
 ],
 "metadata": {
  "kernelspec": {
   "display_name": "Python 3",
   "language": "python",
   "name": "python3"
  },
  "language_info": {
   "codemirror_mode": {
    "name": "ipython",
    "version": 2
   },
   "file_extension": ".py",
   "mimetype": "text/x-python",
   "name": "python",
   "nbconvert_exporter": "python",
   "pygments_lexer": "ipython2",
   "version": "2.7.6"
  }
 },
 "nbformat": 4,
 "nbformat_minor": 5
}
